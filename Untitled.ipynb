{
 "cells": [
  {
   "cell_type": "code",
   "execution_count": 1,
   "metadata": {
    "collapsed": true
   },
   "outputs": [],
   "source": [
    "from nltk.corpus import gutenberg\n",
    "from nltk.corpuspus import stopwords"
   ]
  },
  {
   "cell_type": "code",
   "execution_count": 2,
   "metadata": {
    "collapsed": false
   },
   "outputs": [
    {
     "data": {
      "text/plain": [
       "u\"[, Emma, by, Jane, Austen, 1816, ], VOLUME, I, CHAPTER, I, Emma, Woodhouse, ,, handsome, ,, clever, ,, and, rich, ,, with, a, comfortable, home, and, happy, disposition, ,, seemed, to, unite, some, of, the, best, blessings, of, existence, ;, and, had, lived, nearly, twenty, -, one, years, in, the, world, with, very, little, to, distress, or, vex, her, ., She, was, the, youngest, of, the, two, daughters, of, a, most, affectionate, ,, indulgent, father, ;, and, had, ,, in, consequence, of, her, sister, ', s, marriage, ,, been, mistress, of, his, house, from, a, very, early, period, ., Her\""
      ]
     },
     "execution_count": 2,
     "metadata": {},
     "output_type": "execute_result"
    }
   ],
   "source": [
    "# nltk.corpus.gutenberg.fileids()\n",
    "', '.join(gutenberg.words()[:100])"
   ]
  },
  {
   "cell_type": "code",
   "execution_count": 13,
   "metadata": {
    "collapsed": false
   },
   "outputs": [
    {
     "data": {
      "text/plain": [
       "u'[, Emma, Jane, Austen, 1816, ], VOLUME, I, CHAPTER, I, Emma, Woodhouse, handsome, clever, rich, comfortable, home, happy, disposition, seemed, unite, best, blessings, existence, lived, nearly, twenty, one, years, world, little, distress, vex, She, youngest, two, daughters, affectionate, indulgent, father, consequence, sister, marriage, mistress, house, early, period, Her, mother, died, long, ago, indistinct, remembrance, caresses, place, supplied, excellent, woman, governess, fallen, little, short, mother, affection, Sixteen, years, Miss, Taylor, Mr, Woodhouse, family, less, governess, friend, fond, daughters, particularly, Emma, Between, _them_, intimacy, sisters, Even, Miss, Taylor, ceased, hold, nominal, office, governess, mildness, temper, hardly, allowed, impose, restraint, shadow, authority, long'"
      ]
     },
     "execution_count": 13,
     "metadata": {},
     "output_type": "execute_result"
    }
   ],
   "source": [
    "stop = stopwords.words('english') + ['!','.',',','-',';',\"'\"]\n",
    "stop_removed = [word for word in gutenberg.words() \n",
    "                if word not in stop]\n",
    "\n",
    "', '.join(stop_removed[:100])"
   ]
  },
  {
   "cell_type": "code",
   "execution_count": 14,
   "metadata": {
    "collapsed": false
   },
   "outputs": [
    {
     "data": {
      "text/plain": [
       "u'[, Emma, Jane, Austen, 1816, ], VOLUM, I, CHAPTER, I, Emma, Woodhous, handsom, clever, rich, comfort, home, happi, disposit, seem, unit, best, bless, exist, live, nearli, twenti, one, year, world, littl, distress, vex, She, youngest, two, daughter, affection, indulg, father, consequ, sister, marriag, mistress, hous, earli, period, Her, mother, die, long, ago, indistinct, remembr, caress, place, suppli, excel, woman, gover, fallen, littl, short, mother, affect, Sixteen, year, Miss, Taylor, Mr, Woodhous, famili, less, gover, friend, fond, daughter, particularli, Emma, Between, _them_, intimaci, sister, Even, Miss, Taylor, ceas, hold, nomin, offic, gover, mild, temper, hardli, allow, impos, restraint, shadow, author, long'"
      ]
     },
     "execution_count": 14,
     "metadata": {},
     "output_type": "execute_result"
    }
   ],
   "source": [
    "from nltk.stem.porter import PorterStemmer\n",
    "\n",
    "stemmer = PorterStemmer()\n",
    "stemmed = [stemmer.stem(word) for word in stop_removed]\n",
    "\n",
    "', '.join(stemmed[:100])"
   ]
  },
  {
   "cell_type": "code",
   "execution_count": 15,
   "metadata": {
    "collapsed": false
   },
   "outputs": [
    {
     "ename": "ImportError",
     "evalue": "No module named mrjob",
     "output_type": "error",
     "traceback": [
      "\u001b[1;31m---------------------------------------------------------------------------\u001b[0m",
      "\u001b[1;31mImportError\u001b[0m                               Traceback (most recent call last)",
      "\u001b[1;32m<ipython-input-15-6ea1b9bda48b>\u001b[0m in \u001b[0;36m<module>\u001b[1;34m()\u001b[0m\n\u001b[1;32m----> 1\u001b[1;33m \u001b[1;32mimport\u001b[0m \u001b[0mmrjob\u001b[0m\u001b[1;33m\u001b[0m\u001b[0m\n\u001b[0m",
      "\u001b[1;31mImportError\u001b[0m: No module named mrjob"
     ]
    }
   ],
   "source": [
    "import mrjob"
   ]
  }
 ],
 "metadata": {
  "kernelspec": {
   "display_name": "Python 2",
   "language": "python",
   "name": "python2"
  },
  "language_info": {
   "codemirror_mode": {
    "name": "ipython",
    "version": 2
   },
   "file_extension": ".py",
   "mimetype": "text/x-python",
   "name": "python",
   "nbconvert_exporter": "python",
   "pygments_lexer": "ipython2",
   "version": "2.7.11"
  }
 },
 "nbformat": 4,
 "nbformat_minor": 0
}
